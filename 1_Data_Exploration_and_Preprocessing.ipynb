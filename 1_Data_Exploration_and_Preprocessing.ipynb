{
 "cells": [
  {
   "cell_type": "code",
   "execution_count": 2,
   "id": "b62e8183-e905-46ab-bf8b-ce7513a074ec",
   "metadata": {},
   "outputs": [],
   "source": [
    "import pandas as pd\n",
    "import numpy as np\n",
    "import matplotlib.pyplot as plt\n",
    "import seaborn as sns"
   ]
  },
  {
   "cell_type": "code",
   "execution_count": 15,
   "id": "75af5a12-df77-4f91-bdd3-21eb02df6c5b",
   "metadata": {},
   "outputs": [
    {
     "name": "stdout",
     "output_type": "stream",
     "text": [
      "['duration', 'protocol_type', 'service', 'flag', 'src_bytes', 'dst_bytes', 'land', 'wrong_fragment', 'urgent', 'hot', 'num_failed_logins', 'logged_in', 'num_compromised', 'root_shell', 'su_attempted', 'num_root', 'num_file_creations', 'num_shells', 'num_access_files', 'num_outbound_cmds', 'is_host_login', 'is_guest_login', 'count', 'srv_count', 'serror_rate', 'srv_serror_rate', 'rerror_rate', 'srv_rerror_rate', 'same_srv_rate', 'diff_srv_rate', 'srv_diff_host_rate', 'dst_host_count', 'dst_host_srv_count', 'dst_host_same_srv_rate', 'dst_host_diff_srv_rate', 'dst_host_same_src_port_rate', 'dst_host_srv_diff_host_rate', 'dst_host_serror_rate', 'dst_host_srv_serror_rate', 'dst_host_rerror_rate', 'dst_host_srv_rerror_rate']\n"
     ]
    }
   ],
   "source": [
    "# Load the column names from the Field_Names.csv file\n",
    "column_names = pd.read_csv(\"nsl-kdd/Field_Names.csv\", header=None)\n",
    "\n",
    "# Convert it into a list\n",
    "column_names = column_names[0].tolist()\n",
    "\n",
    "# Display the column names\n",
    "print(column_names)"
   ]
  },
  {
   "cell_type": "code",
   "execution_count": 11,
   "id": "d199ca8d-f947-45f1-8f31-8962c546b5d2",
   "metadata": {},
   "outputs": [
    {
     "name": "stdout",
     "output_type": "stream",
     "text": [
      "       duration protocol_type  service  flag  src_bytes  dst_bytes  land  \\\n",
      "0 tcp  ftp_data            SF      491     0          0          0     0   \n",
      "  udp     other            SF      146     0          0          0     0   \n",
      "  tcp   private            S0        0     0          0          0     0   \n",
      "  tcp      http            SF      232  8153          0          0     0   \n",
      "  tcp      http            SF      199   420          0          0     0   \n",
      "\n",
      "       wrong_fragment  urgent  hot  ...  dst_host_count  dst_host_srv_count  \\\n",
      "0 tcp               0       0    0  ...            0.17                0.03   \n",
      "  udp               0       0    0  ...            0.00                0.60   \n",
      "  tcp               0       0    0  ...            0.10                0.05   \n",
      "  tcp               0       0    1  ...            1.00                0.00   \n",
      "  tcp               0       0    1  ...            1.00                0.00   \n",
      "\n",
      "       dst_host_same_srv_rate  dst_host_diff_srv_rate  \\\n",
      "0 tcp                    0.17                    0.00   \n",
      "  udp                    0.88                    0.00   \n",
      "  tcp                    0.00                    0.00   \n",
      "  tcp                    0.03                    0.04   \n",
      "  tcp                    0.00                    0.00   \n",
      "\n",
      "       dst_host_same_src_port_rate  dst_host_srv_diff_host_rate  \\\n",
      "0 tcp                         0.00                         0.00   \n",
      "  udp                         0.00                         0.00   \n",
      "  tcp                         1.00                         1.00   \n",
      "  tcp                         0.03                         0.01   \n",
      "  tcp                         0.00                         0.00   \n",
      "\n",
      "       dst_host_serror_rate  dst_host_srv_serror_rate  dst_host_rerror_rate  \\\n",
      "0 tcp                  0.05                      0.00                normal   \n",
      "  udp                  0.00                      0.00                normal   \n",
      "  tcp                  0.00                      0.00               neptune   \n",
      "  tcp                  0.00                      0.01                normal   \n",
      "  tcp                  0.00                      0.00                normal   \n",
      "\n",
      "       dst_host_srv_rerror_rate  \n",
      "0 tcp                        20  \n",
      "  udp                        15  \n",
      "  tcp                        19  \n",
      "  tcp                        21  \n",
      "  tcp                        21  \n",
      "\n",
      "[5 rows x 41 columns]\n",
      "        duration protocol_type  service  flag  src_bytes  dst_bytes  land  \\\n",
      "0 tcp    private           REJ        0     0          0          0     0   \n",
      "  tcp    private           REJ        0     0          0          0     0   \n",
      "2 tcp   ftp_data            SF    12983     0          0          0     0   \n",
      "0 icmp     eco_i            SF       20     0          0          0     0   \n",
      "1 tcp     telnet          RSTO        0    15          0          0     0   \n",
      "\n",
      "        wrong_fragment  urgent  hot  ...  dst_host_count  dst_host_srv_count  \\\n",
      "0 tcp                0       0    0  ...            0.04                0.06   \n",
      "  tcp                0       0    0  ...            0.00                0.06   \n",
      "2 tcp                0       0    0  ...            0.61                0.04   \n",
      "0 icmp               0       0    0  ...            1.00                0.00   \n",
      "1 tcp                0       0    0  ...            0.31                0.17   \n",
      "\n",
      "        dst_host_same_srv_rate  dst_host_diff_srv_rate  \\\n",
      "0 tcp                     0.00                    0.00   \n",
      "  tcp                     0.00                    0.00   \n",
      "2 tcp                     0.61                    0.02   \n",
      "0 icmp                    1.00                    0.28   \n",
      "1 tcp                     0.03                    0.02   \n",
      "\n",
      "        dst_host_same_src_port_rate  dst_host_srv_diff_host_rate  \\\n",
      "0 tcp                           0.0                          0.0   \n",
      "  tcp                           0.0                          0.0   \n",
      "2 tcp                           0.0                          0.0   \n",
      "0 icmp                          0.0                          0.0   \n",
      "1 tcp                           0.0                          0.0   \n",
      "\n",
      "        dst_host_serror_rate  dst_host_srv_serror_rate  dst_host_rerror_rate  \\\n",
      "0 tcp                   1.00                      1.00               neptune   \n",
      "  tcp                   1.00                      1.00               neptune   \n",
      "2 tcp                   0.00                      0.00                normal   \n",
      "0 icmp                  0.00                      0.00                 saint   \n",
      "1 tcp                   0.83                      0.71                 mscan   \n",
      "\n",
      "        dst_host_srv_rerror_rate  \n",
      "0 tcp                         21  \n",
      "  tcp                         21  \n",
      "2 tcp                         21  \n",
      "0 icmp                        15  \n",
      "1 tcp                         11  \n",
      "\n",
      "[5 rows x 41 columns]\n"
     ]
    }
   ],
   "source": [
    "# Load training and testing datasets with correct column names\n",
    "train_df = pd.read_csv(\"nsl-kdd/KDDTrain+.txt\", names=column_names)\n",
    "test_df = pd.read_csv(\"nsl-kdd/KDDTest+.txt\", names=column_names)\n",
    "\n",
    "# Display first few rows to verify\n",
    "print(train_df.head())\n",
    "print(test_df.head())"
   ]
  },
  {
   "cell_type": "code",
   "execution_count": 16,
   "id": "e219d0de-0cdc-412b-b5be-42080412bbf7",
   "metadata": {},
   "outputs": [
    {
     "data": {
      "image/png": "[encoded data removed]",
      "text/plain": [
       "<Figure size 800x500 with 1 Axes>"
      ]
     },
     "metadata": {},
     "output_type": "display_data"
    }
   ],
   "source": [
    "plt.figure(figsize=(8,5))\n",
    "sns.countplot(y=df_train.iloc[:, -1])  # Assuming last column is the label\n",
    "plt.title(\"Distribution of Attack vs Normal Traffic\")\n",
    "plt.show()\n"
   ]
  },
  {
   "cell_type": "code",
   "execution_count": null,
   "id": "4454d8ad-eaf2-4bf6-b157-2eeed5b34154",
   "metadata": {},
   "outputs": [],
   "source": []
  }
 ],
 "metadata": {
  "kernelspec": {
   "display_name": "Python 3 (ipykernel)",
   "language": "python",
   "name": "python3"
  },
  "language_info": {
   "codemirror_mode": {
    "name": "ipython",
    "version": 3
   },
   "file_extension": ".py",
   "mimetype": "text/x-python",
   "name": "python",
   "nbconvert_exporter": "python",
   "pygments_lexer": "ipython3",
   "version": "3.12.3"
  }
 },
 "nbformat": 4,
 "nbformat_minor": 5
}
